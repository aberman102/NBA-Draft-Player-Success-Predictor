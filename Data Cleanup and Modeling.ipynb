{
 "cells": [
  {
   "cell_type": "code",
   "execution_count": 74,
   "metadata": {},
   "outputs": [],
   "source": [
    "import numpy as np \n",
    "import pandas as pd\n",
    "import seaborn as sns\n",
    "from datetime import datetime\n",
    "import matplotlib.pyplot as plt\n",
    "from scipy import stats\n",
    "import statsmodels.api as sm\n",
    "from statsmodels.formula.api import ols\n",
    "from sklearn import linear_model\n",
    "from sklearn.linear_model import LinearRegression\n",
    "from sklearn.model_selection import train_test_split\n",
    "from sklearn import metrics\n",
    "from sklearn.preprocessing import PolynomialFeatures\n",
    "from sklearn.preprocessing import StandardScaler\n",
    "from scipy.stats import chi2_contingency\n",
    "from scipy.stats import chi2\n",
    "from sklearn.linear_model import LogisticRegression\n",
    "from sklearn.metrics import accuracy_score, f1_score, recall_score\n",
    "from sklearn.neighbors import KNeighborsClassifier\n",
    "from sklearn import metrics\n",
    "from sklearn.tree import DecisionTreeClassifier\n",
    "from sklearn.model_selection import GridSearchCV\n",
    "from sklearn.model_selection import RandomizedSearchCV\n",
    "from sklearn.model_selection import cross_val_score\n",
    "from sklearn.ensemble import RandomForestClassifier\n",
    "from sklearn.model_selection import cross_val_score\n",
    "from sklearn.metrics import classification_report\n",
    "from sklearn.ensemble import RandomForestClassifier\n",
    "from sklearn.ensemble import AdaBoostClassifier\n",
    "from sklearn.metrics import confusion_matrix\n",
    "import xgboost as xgb\n",
    "from sklearn.utils import resample\n",
    "from sklearn.ensemble import VotingClassifier\n",
    "import os\n",
    "import itertools\n",
    "os.environ['KMP_DUPLICATE_LIB_OK']='True'\n",
    "plt.style.use('seaborn')\n",
    "pd.options.display.max_rows = 4000\n",
    "%matplotlib inline\n",
    "pd.set_option('display.max_columns', 100)"
   ]
  },
  {
   "cell_type": "markdown",
   "metadata": {},
   "source": [
    "Cleaning Up Data"
   ]
  },
  {
   "cell_type": "code",
   "execution_count": 75,
   "metadata": {},
   "outputs": [],
   "source": [
    "df_NBA = pd.read_csv('1985_2000_draft_class_NBA.csv',index_col=0)\n",
    "df_NCAA= pd.read_csv('NCAA_Stats.csv',index_col=0)"
   ]
  },
  {
   "cell_type": "code",
   "execution_count": 76,
   "metadata": {},
   "outputs": [],
   "source": [
    "df_NCAA.fillna(0, inplace=True)\n",
    "df_NBA.fillna(0, inplace=True)"
   ]
  },
  {
   "cell_type": "code",
   "execution_count": 77,
   "metadata": {},
   "outputs": [],
   "source": [
    "df_NCAA['2P']= np.where(df_NCAA['2P']==0, df_NCAA['FG'], df_NCAA['2P'])\n",
    "df_NCAA['2PA']= np.where(df_NCAA['2PA']==0, df_NCAA['FGA'], df_NCAA['2PA'])\n",
    "df_NCAA['2P%']= np.where(df_NCAA['2P%']==0, df_NCAA['FG%'], df_NCAA['2P%'])"
   ]
  },
  {
   "cell_type": "markdown",
   "metadata": {},
   "source": [
    "Combining Data for EDA, Feature Creation and Modeling"
   ]
  },
  {
   "cell_type": "code",
   "execution_count": 78,
   "metadata": {},
   "outputs": [],
   "source": [
    "columns2drop= ['Pick', 'Team', 'College', 'G', 'MP', 'PTS', 'TRB',\n",
    "       'AST', 'FG%', '3P%', 'FT%', 'MP.1', 'PTS.1', 'TRB.1', 'AST.1', 'WS',\n",
    "       'WS/48', 'BPM', 'VORP', 'Position3']\n",
    "df_NBA.drop(columns= columns2drop, inplace= True)"
   ]
  },
  {
   "cell_type": "code",
   "execution_count": 79,
   "metadata": {},
   "outputs": [],
   "source": [
    "df = df_NCAA.merge(df_NBA, on='Name', how='inner')"
   ]
  },
  {
   "cell_type": "markdown",
   "metadata": {},
   "source": [
    "Feature Creation"
   ]
  },
  {
   "cell_type": "code",
   "execution_count": 81,
   "metadata": {},
   "outputs": [],
   "source": [
    "df['Birthday']= pd.to_datetime(df['Birthday'])\n",
    "df['Birthday']= df['Birthday'].dt.year"
   ]
  },
  {
   "cell_type": "code",
   "execution_count": 82,
   "metadata": {},
   "outputs": [],
   "source": [
    "df['Age'] = df['Year']-df['Birthday']"
   ]
  },
  {
   "cell_type": "code",
   "execution_count": 84,
   "metadata": {},
   "outputs": [],
   "source": [
    "df.drop(columns= ['Year','Birthday'], inplace= True)"
   ]
  },
  {
   "cell_type": "code",
   "execution_count": 86,
   "metadata": {},
   "outputs": [],
   "source": [
    "df['Height'] = (df['Height'].str.strip('cm').astype(int))\n",
    "df['Weight'] = (df['Weight'].str.strip('kg').astype(int))"
   ]
  },
  {
   "cell_type": "code",
   "execution_count": 88,
   "metadata": {},
   "outputs": [],
   "source": [
    "# engineered a metric called assist to turnover ratio which is popular today\n",
    "df['AST_TOV'] = df['AST']/df['TOV']\n",
    "# engineered true fg% which takes into account pts, fga, fta\n",
    "df['True_FG%'] = df['PTS']/(2*df['FGA'] + (.44*df['FTA']))*100\n",
    "# engineered points per possession metric which is also very widely used today\n",
    "df['PPP'] = df['PTS']/(df['FGA']+(0.44*df['FTA'])+df['TOV'])\n",
    "# engineered free throw rate\n",
    "df['FTR'] = (df['FTA']/df['FGA'])*100\n",
    "# engineered a players turn over rate%\n",
    "df['TOV%'] = df['TOV']/(df['FGA']+0.44 * df['FTA']+df['TOV'])*100\n",
    "# engineered the hollinger assist ratio\n",
    "df['Hasst%'] = df['AST']/(df['FGA']+.475 * df['FTA']+df['AST']+df['TOV'])*100"
   ]
  },
  {
   "cell_type": "code",
   "execution_count": 95,
   "metadata": {},
   "outputs": [],
   "source": [
    "#Fix infinite numbers created\n",
    "df['AST_TOV']= np.where(df['AST_TOV']== np.inf, (df['AST']/1), df['AST_TOV'])"
   ]
  },
  {
   "cell_type": "code",
   "execution_count": 99,
   "metadata": {},
   "outputs": [],
   "source": [
    "#create value to predict\n",
    "df['Status']= np.where(df['Yrs']>4,1,0)\n",
    "df['Status']= np.where(df['All_Star_apps']>0, 2, df['Status'])\n",
    "df['Status']= np.where(df['All_Def_apps']>0, 2, df['Status'])\n",
    "df['Status']= np.where(df['All_NBA_apps']>0, 3, df['Status'])\n",
    "df['Status']= np.where(df['HOF']=='Hall of Fame', 4, df['Status'])"
   ]
  },
  {
   "cell_type": "code",
   "execution_count": 101,
   "metadata": {},
   "outputs": [],
   "source": [
    "df.drop(columns=['All_Star_apps','All_Def_apps', 'All_NBA_apps', 'HOF'], inplace= True)"
   ]
  },
  {
   "cell_type": "code",
   "execution_count": null,
   "metadata": {},
   "outputs": [],
   "source": []
  }
 ],
 "metadata": {
  "hide_input": false,
  "kernelspec": {
   "display_name": "Python 3",
   "language": "python",
   "name": "python3"
  },
  "language_info": {
   "codemirror_mode": {
    "name": "ipython",
    "version": 3
   },
   "file_extension": ".py",
   "mimetype": "text/x-python",
   "name": "python",
   "nbconvert_exporter": "python",
   "pygments_lexer": "ipython3",
   "version": "3.7.6"
  },
  "toc": {
   "base_numbering": 1,
   "nav_menu": {},
   "number_sections": true,
   "sideBar": true,
   "skip_h1_title": false,
   "title_cell": "Table of Contents",
   "title_sidebar": "Contents",
   "toc_cell": false,
   "toc_position": {},
   "toc_section_display": true,
   "toc_window_display": false
  }
 },
 "nbformat": 4,
 "nbformat_minor": 4
}
